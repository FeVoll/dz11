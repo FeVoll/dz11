{
 "cells": [
  {
   "cell_type": "code",
   "execution_count": 1,
   "id": "4d0fac62-467a-4372-8f60-325da42e261f",
   "metadata": {},
   "outputs": [],
   "source": [
    "import json\n",
    "import random\n",
    "from kafka import KafkaProducer, KafkaConsumer\n",
    "from collections import Counter"
   ]
  },
  {
   "cell_type": "markdown",
   "id": "421aaf62-7511-4b15-9290-26b4541f1d75",
   "metadata": {},
   "source": [
    "Шаг 1: Генерация данных о действиях пользователей\n",
    "Эта функция создает случайные данные активности пользователей с полями user_id, action и timestamp.\n",
    "Возможные действия: login, logout, click и purchase."
   ]
  },
  {
   "cell_type": "code",
   "execution_count": 2,
   "id": "d3407c8b-45a5-45d7-a268-66cddab9db7d",
   "metadata": {},
   "outputs": [],
   "source": [
    "def generate_user_activity(num_records=100):\n",
    "    actions = [\"login\", \"logout\", \"click\", \"purchase\"]\n",
    "    data = []\n",
    "    for _ in range(num_records):\n",
    "        record = {\n",
    "            \"user_id\": random.randint(1, 10),  # Случайный ID пользователя\n",
    "            \"action\": random.choice(actions),  # Случайное действие\n",
    "            \"timestamp\": random_date()         # Случайная временная метка\n",
    "        }\n",
    "        data.append(record)\n",
    "    return data"
   ]
  },
  {
   "cell_type": "code",
   "execution_count": 3,
   "id": "635b1e3a-5730-4044-8e63-33e025f1eb7f",
   "metadata": {},
   "outputs": [],
   "source": [
    "def random_date():\n",
    "    from datetime import datetime, timedelta\n",
    "    start_date = datetime(2024, 12, 8, 0, 0, 0)\n",
    "    delta = timedelta(seconds=random.randint(0, 86400))  # Случайное время в пределах суток\n",
    "    return (start_date + delta).isoformat()"
   ]
  },
  {
   "cell_type": "markdown",
   "id": "89312a30-bbf4-4c34-80fe-e57dcb5aadef",
   "metadata": {},
   "source": [
    "Шаг 2: Настройка Kafka Producer\n",
    "Producer подключается к Kafka и отправляет сериализованные данные в JSON формате в указанный топик.\n",
    "\n",
    "Шаг 3: Настройка Kafka Consumer\n",
    "Consumer читает данные из Kafka топика и десериализует их для обработки.\n",
    "\n",
    "Шаг 4: Обработка и анализ данных\n",
    "Этот блок анализирует активность пользователей для поиска самых активных на основе действий click и purchase."
   ]
  },
  {
   "cell_type": "code",
   "execution_count": 4,
   "id": "2788fc96-359e-4347-af85-7b3052a6c72e",
   "metadata": {},
   "outputs": [
    {
     "name": "stdout",
     "output_type": "stream",
     "text": [
      "100 записей отправлено в топик 'example_topic'.\n",
      "Пользователи с наибольшим количеством действий (click, purchase):\n",
      "ID пользователя: 5, Количество действий: 17\n",
      "ID пользователя: 8, Количество действий: 14\n",
      "ID пользователя: 7, Количество действий: 13\n",
      "ID пользователя: 10, Количество действий: 11\n",
      "ID пользователя: 6, Количество действий: 10\n",
      "ID пользователя: 4, Количество действий: 9\n",
      "ID пользователя: 3, Количество действий: 8\n",
      "ID пользователя: 2, Количество действий: 7\n",
      "ID пользователя: 1, Количество действий: 7\n",
      "ID пользователя: 9, Количество действий: 4\n"
     ]
    }
   ],
   "source": [
    "#Шаг 2\n",
    "\n",
    "producer = KafkaProducer(\n",
    "    bootstrap_servers='localhost:9092',  # Адрес сервера Kafka\n",
    "    value_serializer=lambda v: json.dumps(v).encode('utf-8')  # Сериализация данных в JSON\n",
    ")\n",
    "\n",
    "# Название топика\n",
    "topic_name = \"example_topic\"\n",
    "\n",
    "# Генерация и отправка данных в Kafka\n",
    "data = generate_user_activity()\n",
    "for record in data:\n",
    "    producer.send(topic_name, record)  # Отправка каждой записи в топик\n",
    "producer.flush()  # Убедиться, что все данные отправлены\n",
    "print(f\"{len(data)} записей отправлено в топик '{topic_name}'.\")\n",
    "\n",
    "\n",
    "#Шаг 3\n",
    "consumer = KafkaConsumer(\n",
    "    topic_name,\n",
    "    bootstrap_servers='localhost:9092',  # Адрес сервера Kafka\n",
    "    value_deserializer=lambda m: json.loads(m.decode('utf-8')),  # Десериализация JSON\n",
    "    auto_offset_reset='earliest',  # Начать чтение с начала топика\n",
    "    enable_auto_commit=True        # Автоматическое подтверждение обработки сообщений\n",
    ")\n",
    "\n",
    "\n",
    "#Шаг 4\n",
    "action_counter = Counter()\n",
    "\n",
    "for message in consumer:\n",
    "    record = message.value\n",
    "    if record[\"action\"] in [\"click\", \"purchase\"]:\n",
    "        action_counter[record[\"user_id\"]] += 1\n",
    "    # Для демонстрации останавливаем чтение после обработки всех сгенерированных данных\n",
    "    if sum(action_counter.values()) >= len(data):\n",
    "        break\n",
    "\n",
    "# Вывод результатов\n",
    "print(\"Пользователи с наибольшим количеством действий (click, purchase):\")\n",
    "for user_id, count in action_counter.most_common():\n",
    "    print(f\"ID пользователя: {user_id}, Количество действий: {count}\")"
   ]
  },
  {
   "cell_type": "code",
   "execution_count": null,
   "id": "846431ac-f2a3-4fde-ba06-987be911672a",
   "metadata": {},
   "outputs": [],
   "source": []
  }
 ],
 "metadata": {
  "kernelspec": {
   "display_name": "Python 3 (ipykernel)",
   "language": "python",
   "name": "python3"
  },
  "language_info": {
   "codemirror_mode": {
    "name": "ipython",
    "version": 3
   },
   "file_extension": ".py",
   "mimetype": "text/x-python",
   "name": "python",
   "nbconvert_exporter": "python",
   "pygments_lexer": "ipython3",
   "version": "3.12.3"
  }
 },
 "nbformat": 4,
 "nbformat_minor": 5
}
